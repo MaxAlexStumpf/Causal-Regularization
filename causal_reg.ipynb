{
 "cells": [
  {
   "cell_type": "code",
   "execution_count": 80,
   "metadata": {},
   "outputs": [],
   "source": [
    "import numpy as np\n",
    "import matplotlib.pyplot as plt\n",
    "from sklearn.linear_model import LinearRegression, Ridge"
   ]
  },
  {
   "cell_type": "code",
   "execution_count": 81,
   "metadata": {},
   "outputs": [],
   "source": [
    "def generate_observational(n_obs, beta, gamma, sigma_e, sigma_e0, seed = 42):\n",
    "    np.random.seed(seed)\n",
    "    e = np.random.normal(0, sigma_e, n_obs)\n",
    "    e0 = np.random.normal(0, sigma_e0, n_obs)\n",
    "    X = gamma * e + e0\n",
    "    Y = beta * X + e    \n",
    "    \n",
    "    return X.reshape(-1, 1), Y\n"
   ]
  },
  {
   "cell_type": "code",
   "execution_count": 82,
   "metadata": {},
   "outputs": [],
   "source": [
    "def generate_interventional(n_int, beta, sigma_e, seed = None):\n",
    "    if seed is not None:\n",
    "        np.random.seed(seed)\n",
    "    X_int = np.random.normal(0, 1, n_int)\n",
    "    e = np.random.normal(0, sigma_e, n_int)\n",
    "    Y_int = beta * X_int + e\n",
    "    return X_int.reshape(-1, 1), Y_int\n",
    "    "
   ]
  },
  {
   "cell_type": "code",
   "execution_count": 83,
   "metadata": {},
   "outputs": [],
   "source": [
    "def OLS_estimate(X, Y):\n",
    "    model = LinearRegression(fit_intercept = False)\n",
    "    model.fit(X, Y)\n",
    "    return model.coef_[0]"
   ]
  },
  {
   "cell_type": "code",
   "execution_count": 84,
   "metadata": {},
   "outputs": [],
   "source": [
    "def ridge_estimate(X, Y, alpha):\n",
    "    model = Ridge(alpha = alpha, fit_intercept = False)\n",
    "    model.fit(X, Y)\n",
    "    return model.coef_[0]\n"
   ]
  },
  {
   "cell_type": "markdown",
   "metadata": {},
   "source": [
    "# Observational Data"
   ]
  },
  {
   "cell_type": "code",
   "execution_count": 85,
   "metadata": {},
   "outputs": [],
   "source": [
    "beta_true = 1.0\n",
    "gamma = 0.1\n",
    "sigma_e = 10.0\n",
    "sigma_e0 = 1.0\n",
    "n_obs = int(1e6)"
   ]
  },
  {
   "cell_type": "code",
   "execution_count": 86,
   "metadata": {},
   "outputs": [
    {
     "name": "stdout",
     "output_type": "stream",
     "text": [
      "5.99445021468357\n"
     ]
    }
   ],
   "source": [
    "X_obs, Y_obs = generate_observational(n_obs, beta_true, gamma, sigma_e, sigma_e0, seed = 42)\n",
    "beta_hat_obs = OLS_estimate(X_obs, Y_obs)\n",
    "print(beta_hat_obs)"
   ]
  },
  {
   "cell_type": "code",
   "execution_count": 87,
   "metadata": {},
   "outputs": [
    {
     "name": "stdout",
     "output_type": "stream",
     "text": [
      "0.004843578295397626\n"
     ]
    }
   ],
   "source": [
    "n_bootstraps = 1000\n",
    "beta_bootstrap = []\n",
    "\n",
    "for i in range(n_bootstraps):\n",
    "    indices = np.random.choice(n_obs, n_obs, replace=True)\n",
    "    X_boot = X_obs[indices]\n",
    "    Y_boot = Y_obs[indices]\n",
    "    beta_boot = OLS_estimate(X_boot, Y_boot)\n",
    "    beta_bootstrap.append(beta_boot)\n",
    "\n",
    "beta_bootstrap = np.array(beta_bootstrap)\n",
    "std_beta_ols = np.std(beta_bootstrap)\n",
    "print(std_beta_ols)"
   ]
  },
  {
   "cell_type": "markdown",
   "metadata": {},
   "source": [
    "# Interventional Data"
   ]
  },
  {
   "cell_type": "code",
   "execution_count": 88,
   "metadata": {},
   "outputs": [],
   "source": [
    "intervention_sizes = [100, 1000, 10000]\n",
    "n_repeats = 100"
   ]
  },
  {
   "cell_type": "code",
   "execution_count": 89,
   "metadata": {},
   "outputs": [
    {
     "name": "stdout",
     "output_type": "stream",
     "text": [
      "  n_int =   100: mean(OLS) = 0.9629, std = 0.9202 (true=1.0).\n",
      "  n_int =  1000: mean(OLS) = 0.9918, std = 0.3421 (true=1.0).\n",
      "  n_int = 10000: mean(OLS) = 0.9959, std = 0.1070 (true=1.0).\n",
      "\n"
     ]
    }
   ],
   "source": [
    "for n_int in intervention_sizes:\n",
    "    beta_hats =[]\n",
    "    for trial in range(n_repeats):\n",
    "        X_int, Y_int = generate_interventional(n_int, beta_true, sigma_e)\n",
    "        b_estimate = OLS_estimate(X_int, Y_int)\n",
    "        beta_hats.append(b_estimate)\n",
    "    \n",
    "    beta_hats = np.array(beta_hats)\n",
    "    mean_beta = np.mean(beta_hats)\n",
    "    std_beta = np.std(beta_hats)\n",
    "    print(f\"  n_int = {n_int:5d}: mean(OLS) = {mean_beta:.4f}, std = {std_beta:.4f} \"\n",
    "              f\"(true=1.0).\")\n",
    "print()"
   ]
  },
  {
   "cell_type": "markdown",
   "metadata": {},
   "source": [
    "# Causal Regularization"
   ]
  },
  {
   "cell_type": "code",
   "execution_count": 94,
   "metadata": {},
   "outputs": [],
   "source": [
    "n_int_demo = 1000\n",
    "X_int_demo, Y_int_demo = generate_interventional(n_int_demo, beta_true, sigma_e)\n",
    "alpha_grid = np.arange(1000, 5000000, 100)\n",
    "best_alpha = None\n",
    "best_mse = float(\"inf\")"
   ]
  },
  {
   "cell_type": "code",
   "execution_count": 95,
   "metadata": {},
   "outputs": [],
   "source": [
    "for alpha in alpha_grid:\n",
    "    beta_ridge = ridge_estimate(X_obs, Y_obs, alpha)\n",
    "    Y_hat_int = beta_ridge * X_int_demo.ravel()\n",
    "    mse = np.mean((Y_int_demo - Y_hat_int)**2)\n",
    "\n",
    "    if mse < best_mse:\n",
    "        best_mse = mse\n",
    "        best_alpha = alpha"
   ]
  },
  {
   "cell_type": "code",
   "execution_count": 97,
   "metadata": {},
   "outputs": [
    {
     "data": {
      "text/plain": [
       "1.715651495867423"
      ]
     },
     "execution_count": 97,
     "metadata": {},
     "output_type": "execute_result"
    }
   ],
   "source": [
    "beta_ridge_1 = ridge_estimate(X_obs, Y_obs, best_alpha)\n",
    "beta_ridge_1"
   ]
  },
  {
   "cell_type": "code",
   "execution_count": 98,
   "metadata": {},
   "outputs": [
    {
     "name": "stdout",
     "output_type": "stream",
     "text": [
      "0.0022650684724831926\n"
     ]
    }
   ],
   "source": [
    "beta_ridge_bootstrap = []\n",
    "for i in range(n_bootstraps):\n",
    "    indices = np.random.choice(n_obs, n_obs, replace=True)\n",
    "    X_boot = X_obs[indices]\n",
    "    Y_boot = Y_obs[indices]\n",
    "    beta_ridge_boot = ridge_estimate(X_boot, Y_boot, best_alpha)\n",
    "    beta_ridge_bootstrap.append(beta_ridge_boot)\n",
    "\n",
    "beta_ridge_bootstrap = np.array(beta_ridge_bootstrap)\n",
    "std_beta_ridge = np.std(beta_ridge_bootstrap)\n",
    "print(std_beta_ridge)"
   ]
  }
 ],
 "metadata": {
  "kernelspec": {
   "display_name": "base",
   "language": "python",
   "name": "python3"
  },
  "language_info": {
   "codemirror_mode": {
    "name": "ipython",
    "version": 3
   },
   "file_extension": ".py",
   "mimetype": "text/x-python",
   "name": "python",
   "nbconvert_exporter": "python",
   "pygments_lexer": "ipython3",
   "version": "3.11.7"
  }
 },
 "nbformat": 4,
 "nbformat_minor": 2
}
